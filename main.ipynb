{
 "cells": [
  {
   "cell_type": "code",
   "execution_count": 78,
   "metadata": {},
   "outputs": [],
   "source": [
    "from classes import *\n",
    "import matplotlib.pyplot as plt"
   ]
  },
  {
   "cell_type": "markdown",
   "metadata": {},
   "source": [
    "Vinegar goes from 4% to 8%m/m. Vinager density is roughly 0.96g/mL.\n",
    "\n",
    "$\\%m/m = \\frac{m_{HAcO}}{m_{Vin}} 100$\n",
    "\n",
    "$\\%m/m = \\frac{m_{HAcO}}{V_{Vin} \\rho_{vin}} 100$ \n",
    "\n",
    "$\\%m/m = \\frac{m_{HAcO} Mr_{HAcO}}{Mr_{HAcO} V_{Vin}(mL) \\rho_{vin}(g/mL)} 100$   \n",
    "\n",
    "$\\%m/m = \\frac{n_{HAcO}}{V_{vin}(L)} \\frac{Mr_{HAcO}}{\\rho_{vin}(L)} 100$   \n",
    "\n",
    "$\\%m/m = C_{HAcO}(M) \\frac{Mr_{HAcO}}{\\rho_{vin}(g/L)} 100$\n",
    "\n",
    "$C_{HAcO}(M) = \\%m/m \\frac{\\rho_{vin}(g/mL) 1000 ml/L}{Mr_{HAcO} 100}$\n",
    "\n",
    "$C_{HAcO}(M) = \\%m/m \\frac{\\rho_{vin}(g/mL) 10 ml/L}{Mr_{HAcO}}$"
   ]
  },
  {
   "cell_type": "code",
   "execution_count": 79,
   "metadata": {},
   "outputs": [
    {
     "name": "stdout",
     "output_type": "stream",
     "text": [
      "[0.63944581 1.27889163]\n"
     ]
    }
   ],
   "source": [
    "#\n",
    "rho_vin = 0.96                          #g/mL\n",
    "MrHAcO = 60.052                         #g/mol\n",
    "\n",
    "VinagerRange = np.array([4,8])          #%m/m\n",
    "VinagerRangeMolar = VinagerRange*rho_vin*10/MrHAcO\n",
    "\n",
    "print(VinagerRangeMolar)"
   ]
  },
  {
   "cell_type": "markdown",
   "metadata": {},
   "source": [
    "Vinager has a high concentration. Approximating activities with concentration may not be valid. Titrate a more diluted acid."
   ]
  },
  {
   "cell_type": "code",
   "execution_count": 80,
   "metadata": {},
   "outputs": [
    {
     "name": "stdout",
     "output_type": "stream",
     "text": [
      "Ka:1.754e-05 \n",
      "Ka:1.585e-14 \n"
     ]
    }
   ],
   "source": [
    "\n",
    "pKaHAcO = 4.756\n",
    "C0HAcO = 0.001       #M\n",
    "#C0HAcO = 1e-7       #M\n",
    "VHAcO = 0.01        #L\n",
    "\n",
    "MrNAOH = 39.99711   #g/mol\n",
    "pKaNaOH = 14-0.2\n",
    "C0NaOH = 0.001       #M\n",
    "VNaOH = 0.01        #L       \n",
    "\n",
    "Kw = 1e-14\n",
    "\n",
    "HAcO = Solution(Mr=MrHAcO, pK=pKaHAcO, Cmolar=C0HAcO, V=VHAcO, solutionType='acid')\n",
    "NaOH = Solution(Mr=MrNAOH, pK=pKaNaOH, V=VNaOH, Cmolar=C0NaOH, solutionType='basic')\n",
    "\n",
    "HAcO.K_from_pK()\n",
    "NaOH.K_from_pK()"
   ]
  },
  {
   "cell_type": "markdown",
   "metadata": {},
   "source": [
    "# Titration"
   ]
  },
  {
   "cell_type": "markdown",
   "metadata": {},
   "source": [
    "## $n_{tit} = 0$"
   ]
  },
  {
   "cell_type": "code",
   "execution_count": 81,
   "metadata": {},
   "outputs": [
    {
     "name": "stdout",
     "output_type": "stream",
     "text": [
      "------------\n",
      "Approximate result\n",
      "------------\n",
      "[-0.00014149  0.00012395]\n",
      "[H+]: 1.2395e-04 M, pH: 3.907, [HO-]: 8.067e-11 M,  [HAcO]: 0.000124\n",
      "[H+] (bondi): 1.3243e-04 M, pH: 3.878\n",
      "--------------\n",
      "Numeric Result\n",
      "--------------\n",
      "[H+]:1.2395e-04 M\n",
      "pH:3.907\n"
     ]
    },
    {
     "data": {
      "text/plain": [
       "3.906736604751039"
      ]
     },
     "execution_count": 81,
     "metadata": {},
     "output_type": "execute_result"
    }
   ],
   "source": [
    "coeffAprox = [1, HAcO.K, -HAcO.K*HAcO.Cmolar]\n",
    "Haprox = np.roots(coeffAprox)[1]\n",
    "pKaAprox = -np.log10(Haprox)\n",
    "\n",
    "Hbondi = np.sqrt(HAcO.K*HAcO.Cmolar)\n",
    "pHbondi = -np.log10(Hbondi)\n",
    "\n",
    "HAcOaprox = Haprox\n",
    "HOaprox = Kw/Haprox\n",
    "\n",
    "\n",
    "print('------------')\n",
    "print('Approximate result')\n",
    "print('------------')\n",
    "print(np.roots(coeffAprox))\n",
    "print('[H+]: {:.4e} M, pH: {:.4g}, [HO-]: {:.4g} M,  [HAcO]: {:.4g}' .format(Haprox, pKaAprox, HOaprox, HAcOaprox))\n",
    "print('[H+] (bondi): {:.4e} M, pH: {:.4g}' .format(Hbondi, pHbondi))\n",
    "\n",
    "\n",
    "print('--------------')\n",
    "print('Numeric Result')\n",
    "print('--------------')\n",
    "pureHAcO = Pure(solution=HAcO)\n",
    "pureHAcO.calculatepH()\n",
    "\n",
    "\n"
   ]
  },
  {
   "cell_type": "markdown",
   "metadata": {},
   "source": [
    "## $n_{ti} = n_{ac}/2$\n",
    "This implies $C_{ti} V_{ti} = C_{ac} V_{ac}/2$ since $C_{ti} = C_{ac} \\Rightarrow V_{ti} = V_{ac}/2$."
   ]
  },
  {
   "cell_type": "code",
   "execution_count": 82,
   "metadata": {},
   "outputs": [
    {
     "name": "stdout",
     "output_type": "stream",
     "text": [
      "CHAcO: 0.0006667 M y CNaOH: 0.0003333 M\n",
      "------------------\n",
      "Approximate result\n",
      "------------------\n",
      "[-3.66810265e-04  1.59381263e-05]\n",
      "H:1.5938e-05 M, pH:4.798, [HO-]:6.2743e-10 M\n",
      "--------------\n",
      "Numeric Result\n",
      "--------------\n",
      "[H+]: 1.5938e-05 M and pH:4.798\n"
     ]
    }
   ],
   "source": [
    "Vti = C0HAcO/C0NaOH * VHAcO/2\n",
    "Vtot = VHAcO + Vti\n",
    "CNaOH = C0NaOH*Vti / Vtot \n",
    "CHAcO = C0HAcO*VHAcO/Vtot\n",
    "\n",
    "print('CHAcO: {:.4g} M y CNaOH: {:.4g} M' .format(CHAcO, CNaOH) )\n",
    "roots = np.roots([1, CNaOH+HAcO.K, HAcO.K*(CNaOH-CHAcO)])\n",
    "print('------------------')\n",
    "print('Approximate result')\n",
    "print('------------------')\n",
    "print(roots)\n",
    "roots = roots[roots>0]\n",
    "Haprox = roots[0]\n",
    "pHaprox = -np.log10(Haprox)\n",
    "HOaprox = Kw/Haprox\n",
    "\n",
    "print('H:{:.4e} M, pH:{:.4g}, [HO-]:{:.4e} M' .format(Haprox, pHaprox, HOaprox))\n",
    "\n",
    "myTitration = Titration(HAcO, NaOH, Vti)\n",
    "print('--------------')\n",
    "print('Numeric Result')\n",
    "print('--------------')\n",
    "myTitration.strongTitrantCalculateH()"
   ]
  },
  {
   "cell_type": "markdown",
   "metadata": {},
   "source": [
    "## $n_{ti}=n_{ac}$\n",
    "This implies $C_{ti} V_{ti} = C_{ac} V_{ac}$ since $C_{ti} = C_{ac} \\Rightarrow V_{ti} = V_{ac}$.\n"
   ]
  },
  {
   "cell_type": "code",
   "execution_count": 83,
   "metadata": {},
   "outputs": [
    {
     "name": "stdout",
     "output_type": "stream",
     "text": [
      "CHAcO: 0.0005 M y CNaOH: 0.0005 M\n",
      "[-5.34215993e-07  5.33645829e-07]\n",
      "------------------\n",
      "Approximate result\n",
      "------------------\n",
      "[HO-]:5.3365e-07 M, [H+]:1.8739e-08 M and pH:7.727\n",
      "--------------\n",
      "Numeric Result\n",
      "--------------\n",
      "[H+]: 1.8418e-08 M and pH:7.735\n"
     ]
    }
   ],
   "source": [
    "Vti = C0HAcO/C0NaOH * VHAcO\n",
    "Vtot = VHAcO + Vti\n",
    "CNaOH = C0NaOH*Vti / Vtot \n",
    "CHAcO = C0HAcO*VHAcO/Vtot\n",
    "print('CHAcO: {:.4g} M y CNaOH: {:.4g} M' .format(CHAcO, CNaOH) )\n",
    "\n",
    "roots = np.roots([1, Kw/HAcO.K, -CHAcO*Kw/HAcO.K])\n",
    "print(roots)\n",
    "roots = roots[roots > 0]\n",
    "HOaprox = roots[0]\n",
    "H = Kw/HOaprox \n",
    "pH = -np.log10(H)\n",
    "print('------------------')\n",
    "print('Approximate result')\n",
    "print('------------------')\n",
    "print('[HO-]:{:.4e} M, [H+]:{:.4e} M and pH:{:.4g}' .format(HOaprox,H,pH)) \n",
    "\n",
    "myTitration = Titration(HAcO, NaOH, Vti)\n",
    "print('--------------')\n",
    "print('Numeric Result')\n",
    "print('--------------')\n",
    "myTitration.strongTitrantCalculateH()"
   ]
  },
  {
   "cell_type": "markdown",
   "metadata": {},
   "source": [
    "## $n_{ti}=\\frac{3}{2}n_{ac}$\n",
    "This implies $C_{ti} V_{ti} = \\frac{3}{2}C_{ac} V_{ac}$ since $C_{ti} = C_{ac} \\Rightarrow V_{ti} = \\frac{3}{2}V_{ac}$.\n"
   ]
  },
  {
   "cell_type": "code",
   "execution_count": 84,
   "metadata": {},
   "outputs": [
    {
     "name": "stdout",
     "output_type": "stream",
     "text": [
      "CHAcO: 0.0004 M y CNaOH: 0.0006 M\n",
      "------------------\n",
      "Approximate result\n",
      "------------------\n",
      "[HO-]:2.0000e-04 M, [H+]:5.0001e-11 M, pH:10.3, [HA]:1.1403e-09\n",
      "------------\n",
      "Exact Result\n",
      "------------\n",
      "[H+]: 5.0000e-11 M and pH:10.3\n"
     ]
    }
   ],
   "source": [
    "Vti = C0HAcO/C0NaOH * 3*VHAcO/2\n",
    "Vtot = VHAcO + Vti\n",
    "CNaOH = C0NaOH*Vti / Vtot \n",
    "CHAcO = C0HAcO*VHAcO/Vtot\n",
    "print('CHAcO: {:.4g} M y CNaOH: {:.4g} M' .format(CHAcO, CNaOH) )\n",
    "\n",
    "roots = np.roots([1, Kw/HAcO.K+CHAcO-CNaOH, CNaOH*Kw/HAcO.K])\n",
    "roots = roots[roots > 0]\n",
    "HOaprox = roots[0]\n",
    "Haprox = Kw/HOaprox \n",
    "pH = -np.log10(Haprox)\n",
    "HAaprox = Haprox*CHAcO/HAcO.K\n",
    "print('------------------')\n",
    "print('Approximate result')\n",
    "print('------------------')\n",
    "print('[HO-]:{:.4e} M, [H+]:{:.4e} M, pH:{:.4g}, [HA]:{:.4e}' .format(HOaprox,Haprox,pH,HAaprox)) \n",
    "\n",
    "myTitration = Titration(HAcO, NaOH, Vti)\n",
    "print('------------')\n",
    "print('Exact Result')\n",
    "print('------------')\n",
    "myTitration.strongTitrantCalculateH()\n"
   ]
  },
  {
   "cell_type": "code",
   "execution_count": 95,
   "metadata": {},
   "outputs": [
    {
     "name": "stdout",
     "output_type": "stream",
     "text": [
      "------------\n",
      "Exact Result\n",
      "------------\n"
     ]
    },
    {
     "data": {
      "image/png": "[encoded data removed]",
      "text/plain": [
       "<Figure size 432x288 with 1 Axes>"
      ]
     },
     "metadata": {
      "needs_background": "light"
     },
     "output_type": "display_data"
    }
   ],
   "source": [
    "Vti = np.linspace(0, 3/2*VHAcO,100)\n",
    "\n",
    "myTitration = Titration(HAcO, NaOH, Vti)\n",
    "print('------------')\n",
    "print('Exact Result')\n",
    "print('------------')\n",
    "myTitration.strongTitrantCalculateH()\n",
    "pHs = -np.log10(myTitration.H)\n",
    "\n",
    "Figure, ax = plt.subplots()\n",
    "ax.plot(Vti*1000, pHs)\n",
    "ax.set_xlabel('$V_{NaOH}$')\n",
    "ax.set_ylabel('pH')\n",
    "ax.set_xlim(0,15)\n",
    "ax.set_ylim(0,11)\n",
    "plt.show()"
   ]
  },
  {
   "cell_type": "markdown",
   "metadata": {},
   "source": [
    "# Many concentrations \n",
    "In order to preserve the same volummes, both concentration were reduced equitatively and therefore, equivalence between moles becomes equivalence between volummes (given that this is also a monoprotic acid with a single equilibrium).\n",
    "\n",
    "New concentrations can be calculated as:\n",
    "\n",
    "$C_{HA} = C_{HA}^0 \\frac{V_{HA}}{V_{HA}+V_t}$"
   ]
  },
  {
   "cell_type": "markdown",
   "metadata": {},
   "source": [
    "## $n_t = 0$"
   ]
  },
  {
   "cell_type": "code",
   "execution_count": 86,
   "metadata": {},
   "outputs": [
    {
     "name": "stdout",
     "output_type": "stream",
     "text": [
      "[3.387093322276876, 4.468288074072543, 6.022877953190146, 8.000247407689725]\n"
     ]
    }
   ],
   "source": [
    "Cs = [1e-2, 1e-4, 1e-6, 1e-8]\n",
    "Ka = HAcO.K\n",
    "\n",
    "pH0 = []\n",
    "for Cmolar in Cs:\n",
    "    coeffAprox = [1, Ka, -Ka*Cmolar]\n",
    "    roots = np.roots(coeffAprox)\n",
    "    positiveRoot = roots[roots>0]\n",
    "    Haprox = positiveRoot[0]\n",
    "    pHaprox = -np.log10(Haprox)\n",
    "    pH0.append(pHaprox)\n",
    "\n",
    "print(pH0)"
   ]
  },
  {
   "cell_type": "markdown",
   "metadata": {},
   "source": [
    "## $n_t = n_a/2$\n",
    "\n",
    "$C_{HA} = \\frac{2}{3} C_{HA}^0 $\n",
    "\n",
    "$C_{NaOH} = C_{NaOH}^0 /3$"
   ]
  },
  {
   "cell_type": "code",
   "execution_count": 87,
   "metadata": {},
   "outputs": [
    {
     "name": "stdout",
     "output_type": "stream",
     "text": [
      "CHA: [6.66666667e-03 6.66666667e-05 6.66666667e-07 6.66666667e-09]\n",
      "CNAOH: [3.33333333e-03 3.33333333e-05 3.33333333e-07 3.33333333e-09]\n",
      "[4.760522895889401, 5.015095656521482, 6.493036962130839, 8.477286271473945]\n"
     ]
    }
   ],
   "source": [
    "CHAs = np.array(Cs)*2/3\n",
    "CNaOHs = np.array(Cs)/3\n",
    "\n",
    "print('CHA:', CHAs)\n",
    "print('CNAOH:', CNaOHs)\n",
    "\n",
    "pH_half = []\n",
    "for i in range(len(CHAs)):\n",
    "    roots = np.roots([1, CNaOHs[i]+Ka, Ka*(CNaOHs[i]-CHAs[i])])\n",
    "    roots = roots[roots>0]\n",
    "    \n",
    "    Haprox = roots[0]\n",
    "    pHaprox = -np.log10(Haprox)\n",
    "    pH_half.append(pHaprox)\n",
    "\n",
    "print(pH_half)"
   ]
  },
  {
   "cell_type": "markdown",
   "metadata": {},
   "source": [
    "## $n_t = n_a$\n",
    "\n",
    "$C_{NaOH} = C_{NaOH}^0 /2$\n",
    "\n",
    "$C_{HA} = C_{HA}^0 /2$"
   ]
  },
  {
   "cell_type": "code",
   "execution_count": 88,
   "metadata": {},
   "outputs": [
    {
     "name": "stdout",
     "output_type": "stream",
     "text": [
      "CNaOH | CHA: [5.e-03 5.e-05 5.e-07 5.e-09]\n",
      "pH: [8.227411674257242, 7.226751723405266, 6.2201525594197635, 5.154501103796471]\n"
     ]
    }
   ],
   "source": [
    "Csalts = np.array(Cs)/2 \n",
    "print('CNaOH | CHA:', Csalts)\n",
    "\n",
    "pHequiv = []\n",
    "for Csalt in Csalts:\n",
    "    roots = np.roots([1, Kw/Ka, -Csalt*Kw/Ka])\n",
    "    roots = roots[roots > 0]\n",
    "    HOaprox = roots[0]\n",
    "    Haprox = Kw/HOaprox \n",
    "    pHaprox = -np.log10(Haprox)\n",
    "    pHequiv.append(pHaprox)\n",
    "\n",
    "print('pH:', pHequiv)"
   ]
  },
  {
   "cell_type": "markdown",
   "metadata": {},
   "source": [
    "## $n_t = \\frac{3}{2}n_a$\n",
    "\n",
    "$C_{HA} = \\frac{2}{5} C_{HA}^0 /2$\n",
    "\n",
    "$C_{NaOH} = \\frac{3}{5} C_{NaOH}^0 $"
   ]
  },
  {
   "cell_type": "code",
   "execution_count": 89,
   "metadata": {},
   "outputs": [
    {
     "name": "stdout",
     "output_type": "stream",
     "text": [
      "CHA: [4.e-03 4.e-05 4.e-07 4.e-09]\n",
      "CNAOH: [6.e-03 6.e-05 6.e-07 6.e-09]\n",
      "pH: [11.301029995663981, 9.301029995663981, 7.301029995663981, 5.301029995663981]\n"
     ]
    }
   ],
   "source": [
    "CHAs = np.array(Cs)*2/5\n",
    "CNaOHs = np.array(Cs)*3/5\n",
    "\n",
    "print('CHA:', CHAs)\n",
    "print('CNAOH:', CNaOHs)\n",
    "\n",
    "pH_post = []\n",
    "for i in range(len(CHAs)):\n",
    "    HOaprox = CNaOHs[i] - CHAs[i]\n",
    "    Haprox = Kw/HOaprox \n",
    "    pHaprox = -np.log10(Haprox)\n",
    "    pH_post.append(pHaprox)\n",
    "\n",
    "print('pH:', pH_post)"
   ]
  },
  {
   "cell_type": "code",
   "execution_count": 107,
   "metadata": {},
   "outputs": [
    {
     "name": "stdout",
     "output_type": "stream",
     "text": [
      "1.7538805018417602e-05\n",
      "[H+]: 4.1012e-04 M and pH:3.387\n",
      "[H+]: 1.7357e-05 M and pH:4.761\n",
      "[H+]: 5.9133e-09 M and pH:8.228\n",
      "[H+]: 5.0000e-12 M and pH:11.3\n",
      "[H+]: 3.4018e-05 M and pH:4.468\n",
      "[H+]: 9.6588e-06 M and pH:5.015\n",
      "[H+]: 5.1014e-08 M and pH:7.292\n",
      "[H+]: 4.9996e-10 M and pH:9.301\n",
      "[H+]: 9.5861e-07 M and pH:6.018\n",
      "[H+]: 3.4898e-07 M and pH:6.457\n",
      "[H+]: 9.8612e-08 M and pH:7.006\n",
      "[H+]: 4.1284e-08 M and pH:7.384\n",
      "[H+]: 1.0509e-07 M and pH:6.978\n",
      "[H+]: 1.0166e-07 M and pH:6.993\n",
      "[H+]: 9.9986e-08 M and pH:7\n",
      "[H+]: 9.8994e-08 M and pH:7.004\n"
     ]
    },
    {
     "data": {
      "image/png": "[encoded data removed]",
      "text/plain": [
       "<Figure size 432x288 with 1 Axes>"
      ]
     },
     "metadata": {
      "needs_background": "light"
     },
     "output_type": "display_data"
    },
    {
     "name": "stdout",
     "output_type": "stream",
     "text": [
      "[3.387093309096158, 4.468285813089459, 6.018358994789697, 6.978423494142146]\n",
      "[4.760522747305931, 5.015077617705675, 6.457197234348731, 6.99284550941143]\n",
      "[8.228172426291431, 7.292309955551001, 7.006070227505226, 7.0000615451681725]\n",
      "[11.30103024436863, 9.301065609858835, 7.38421631410906, 7.004391620388138]\n"
     ]
    }
   ],
   "source": [
    "HAs = [Solution(Mr=MrHAcO, K=Ka, Cmolar=C, V=VHAcO, solutionType='acid') for C in Cs]\n",
    "NaOHs = [Solution(Mr=MrNAOH, K=1e-14, V=VNaOH, Cmolar=C0NaOH, solutionType='basic') for C0NaOH in Cs]\n",
    "\n",
    "print(HAs[1].K)\n",
    "\n",
    "pHs_0good=[]\n",
    "pHs_halfGood = []\n",
    "pHs_equivGood = []\n",
    "pHs_postGood = []\n",
    "\n",
    "Figure, ax = plt.subplots()\n",
    "for i in range(len(HAs)):\n",
    "    myTitration = Titration(HAs[i], NaOHs[i], Vti)\n",
    "    myTitration.strongTitrantCalculateH()\n",
    "    pHs = -np.log10(myTitration.H)\n",
    "\n",
    "    V0 = 0\n",
    "    zero = Titration(HAs[i], NaOHs[i], V0)\n",
    "    zero.strongTitrantCalculateH()\n",
    "    pH0good=-np.log10(zero.H)\n",
    "    pHs_0good.append(pH0good)\n",
    "\n",
    "    Vhalf = VHAcO/2\n",
    "    half = Titration(HAs[i], NaOHs[i], Vhalf)\n",
    "    half.strongTitrantCalculateH()\n",
    "    pHhalfGood=-np.log10(half.H)\n",
    "    pHs_halfGood.append(pHhalfGood)\n",
    "\n",
    "    Vequiv = VHAcO\n",
    "    equiv = Titration(HAs[i], NaOHs[i], Vequiv)\n",
    "    equiv.strongTitrantCalculateH()\n",
    "    pHequivGood=-np.log10(equiv.H)\n",
    "    pHs_equivGood.append(pHequivGood)\n",
    "    \n",
    "    Vpost = VHAcO*3/2\n",
    "    post = Titration(HAs[i], NaOHs[i], Vpost)\n",
    "    post.strongTitrantCalculateH()\n",
    "    pHpostGood=-np.log10(post.H)\n",
    "    pHs_postGood.append(pHpostGood)\n",
    "\n",
    "    ax.plot(Vti*1000, pHs, label = '$C^0: {:.1e}$' .format(HAs[i].Cmolar))\n",
    "ax.set_xlabel('$V_{NaOH}$')\n",
    "ax.set_ylabel('pH')\n",
    "ax.set_xlim(0,15)\n",
    "ax.legend()\n",
    "ax.vlines(10, 3, 11, linestyles='--', color='black')\n",
    "plt.show()\n",
    "\n",
    "print(pHs_0good)\n",
    "print(pHs_halfGood)\n",
    "print(pHs_equivGood)\n",
    "print(pHs_postGood)"
   ]
  }
 ],
 "metadata": {
  "kernelspec": {
   "display_name": "base",
   "language": "python",
   "name": "python3"
  },
  "language_info": {
   "codemirror_mode": {
    "name": "ipython",
    "version": 3
   },
   "file_extension": ".py",
   "mimetype": "text/x-python",
   "name": "python",
   "nbconvert_exporter": "python",
   "pygments_lexer": "ipython3",
   "version": "3.9.12"
  }
 },
 "nbformat": 4,
 "nbformat_minor": 2
}
